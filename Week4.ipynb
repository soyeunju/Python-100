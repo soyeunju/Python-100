{
  "nbformat": 4,
  "nbformat_minor": 0,
  "metadata": {
    "colab": {
      "provenance": [],
      "authorship_tag": "ABX9TyP5tP4KxZVKhW/4UJh73Osa",
      "include_colab_link": true
    },
    "kernelspec": {
      "name": "python3",
      "display_name": "Python 3"
    },
    "language_info": {
      "name": "python"
    }
  },
  "cells": [
    {
      "cell_type": "markdown",
      "metadata": {
        "id": "view-in-github",
        "colab_type": "text"
      },
      "source": [
        "<a href=\"https://colab.research.google.com/github/soyeunju/Python-100/blob/main/Week4.ipynb\" target=\"_parent\"><img src=\"https://colab.research.google.com/assets/colab-badge.svg\" alt=\"Open In Colab\"/></a>"
      ]
    },
    {
      "cell_type": "markdown",
      "source": [
        "## Part 5\n",
        "### 49. 로켓 발사 1"
      ],
      "metadata": {
        "id": "iJ7yzixL1Pue"
      }
    },
    {
      "cell_type": "code",
      "source": [
        "for i in range(1,11):\n",
        "  print(i)\n",
        "print('발사!')"
      ],
      "metadata": {
        "colab": {
          "base_uri": "https://localhost:8080/"
        },
        "id": "BnLm2Xxv1W0E",
        "outputId": "6dd879d6-d1ff-491a-e202-c0a6300e32fb"
      },
      "execution_count": null,
      "outputs": [
        {
          "output_type": "stream",
          "name": "stdout",
          "text": [
            "1\n",
            "2\n",
            "3\n",
            "4\n",
            "5\n",
            "6\n",
            "7\n",
            "8\n",
            "9\n",
            "10\n",
            "발사!\n"
          ]
        }
      ]
    },
    {
      "cell_type": "markdown",
      "source": [
        "* range(n,m): 반복을 m-n번 수행하면서 i에서는 n부터 m-1까지의 숫자가 대입 됨."
      ],
      "metadata": {
        "id": "C-6PkM1O1dFb"
      }
    },
    {
      "cell_type": "markdown",
      "source": [
        "### 50. 로켓 발사 2"
      ],
      "metadata": {
        "id": "snDF19uZ2g3I"
      }
    },
    {
      "cell_type": "code",
      "source": [
        "i = 1\n",
        "while(i < 11):\n",
        "  print(i)\n",
        "  i+=1\n",
        "print('발사')"
      ],
      "metadata": {
        "colab": {
          "base_uri": "https://localhost:8080/"
        },
        "id": "SkFZYPix2llI",
        "outputId": "3bfdcd1e-e16f-4076-f5ab-c3b6dccd4244"
      },
      "execution_count": null,
      "outputs": [
        {
          "output_type": "stream",
          "name": "stdout",
          "text": [
            "1\n",
            "2\n",
            "3\n",
            "4\n",
            "5\n",
            "6\n",
            "7\n",
            "8\n",
            "9\n",
            "10\n",
            "발사\n"
          ]
        }
      ]
    },
    {
      "cell_type": "markdown",
      "source": [
        "### 51. 로켓 발사 10초 전"
      ],
      "metadata": {
        "id": "unAjtSd83K_E"
      }
    },
    {
      "cell_type": "code",
      "source": [
        "sec = int(input('카운트다운 몇 초 전인가요?'))\n",
        "for i in range(10,0,-1):\n",
        "  print(i)\n",
        "print('발사!')"
      ],
      "metadata": {
        "colab": {
          "base_uri": "https://localhost:8080/"
        },
        "id": "Y5ydvxKO3Ngz",
        "outputId": "d52ae75f-eee0-45bc-8692-2b970a980e55"
      },
      "execution_count": null,
      "outputs": [
        {
          "output_type": "stream",
          "name": "stdout",
          "text": [
            "카운트다운 몇 초 전인가요?10\n",
            "10\n",
            "9\n",
            "8\n",
            "7\n",
            "6\n",
            "5\n",
            "4\n",
            "3\n",
            "2\n",
            "1\n",
            "발사!\n"
          ]
        }
      ]
    },
    {
      "cell_type": "markdown",
      "source": [
        "### 52. 1부터 100까지 모두 합한 수 1"
      ],
      "metadata": {
        "id": "kmzxz4mS309l"
      }
    },
    {
      "cell_type": "code",
      "source": [
        "num = int(input('입력'))\n",
        "sum = 0\n",
        "for i in range(1,num+1):\n",
        "  sum = sum + i\n",
        "print('1부터',num,'까지 모두 더한 합은',sum)"
      ],
      "metadata": {
        "colab": {
          "base_uri": "https://localhost:8080/"
        },
        "id": "6owC6Umr34ig",
        "outputId": "c1624e2d-d793-4cb0-9bce-4ee241766211"
      },
      "execution_count": null,
      "outputs": [
        {
          "output_type": "stream",
          "name": "stdout",
          "text": [
            "입력10\n",
            "1부터 10 까지 모두 더한 합은 55\n"
          ]
        }
      ]
    },
    {
      "cell_type": "markdown",
      "source": [
        "### 53. 1부터 100까지 모두 합한 수 1"
      ],
      "metadata": {
        "id": "FgOY7OIK4YXd"
      }
    },
    {
      "cell_type": "code",
      "source": [
        "num = int(input('입력'))\n",
        "sum = 0\n",
        "i = 1\n",
        "while(i<num+1):\n",
        "  sum += i\n",
        "  i+=1\n",
        "\n",
        "print('1부터',num,'까지 모두 더한 합은',sum)"
      ],
      "metadata": {
        "colab": {
          "base_uri": "https://localhost:8080/"
        },
        "id": "VyXXiQsr4X48",
        "outputId": "6a505eae-8446-4fcd-a267-60f2324c11f3"
      },
      "execution_count": null,
      "outputs": [
        {
          "output_type": "stream",
          "name": "stdout",
          "text": [
            "입력10\n",
            "1부터 10 까지 모두 더한 합은 55\n"
          ]
        }
      ]
    },
    {
      "cell_type": "markdown",
      "source": [
        "### 54. 음수가 나올 때까지 반복하기"
      ],
      "metadata": {
        "id": "fowDYSSf4rhG"
      }
    },
    {
      "cell_type": "code",
      "source": [
        "while(num>=0):\n",
        "  num = int(input('숫자를 입력하세요'))\n",
        "  if num<0:\n",
        "    print('종료합니다')\n",
        "  else:\n",
        "    print('입력된 숫자는',num)"
      ],
      "metadata": {
        "colab": {
          "base_uri": "https://localhost:8080/"
        },
        "id": "woV53gW74vd2",
        "outputId": "285d42fa-cd78-4881-a77e-6c8c1139e8d7"
      },
      "execution_count": null,
      "outputs": [
        {
          "output_type": "stream",
          "name": "stdout",
          "text": [
            "숫자를 입력하세요10\n",
            "입력된 숫자는 10\n",
            "숫자를 입력하세요7\n",
            "입력된 숫자는 7\n",
            "숫자를 입력하세요100\n",
            "입력된 숫자는 100\n",
            "숫자를 입력하세요-1\n",
            "종료\n"
          ]
        }
      ]
    },
    {
      "cell_type": "markdown",
      "source": [
        "### 55. 옆으로 출력하기\n",
        "다음과 같이 1부터 10까지 공백을 포함해서 한 줄로 출력하는 코드를 작성하세요"
      ],
      "metadata": {
        "id": "9cCjv6UOzdEY"
      }
    },
    {
      "cell_type": "code",
      "source": [
        "for i in range(1,11):\n",
        "  print(i,end = ' ')"
      ],
      "metadata": {
        "id": "LhCB9MCF7jeX",
        "colab": {
          "base_uri": "https://localhost:8080/"
        },
        "outputId": "af316a3d-08ba-4342-b425-098f7df9555a"
      },
      "execution_count": null,
      "outputs": [
        {
          "output_type": "stream",
          "name": "stdout",
          "text": [
            "1 2 3 4 5 6 7 8 9 10 "
          ]
        }
      ]
    },
    {
      "cell_type": "markdown",
      "source": [
        "* end 키워드는 한 줄을 띄우지 않고, 현재 출력하고자 하는 위치가 마지막 출력된 문자의 바로 옆이 됨"
      ],
      "metadata": {
        "id": "HFsGcmYe008U"
      }
    },
    {
      "cell_type": "markdown",
      "source": [
        "### 56. '1+2+3+4+5 = 15'"
      ],
      "metadata": {
        "id": "eKHBipqd5hJq"
      }
    },
    {
      "cell_type": "code",
      "source": [
        "num1 = int(input('첫 번째 숫자를 입력하세요'))\n",
        "num2 = int(input('두 번째 숫자를 입력하세요'))\n",
        "\n",
        "sum = 0\n",
        "for i in range(num1,num2+1):\n",
        "  sum += i\n",
        "  if i != num2:\n",
        "    print(i,end = '+')\n",
        "  else:\n",
        "    print(i, end = '=')\n",
        "print(sum)\n"
      ],
      "metadata": {
        "colab": {
          "base_uri": "https://localhost:8080/"
        },
        "id": "FuafcArUzjdx",
        "outputId": "38cedf08-7455-45bb-9822-876172ddca87"
      },
      "execution_count": null,
      "outputs": [
        {
          "output_type": "stream",
          "name": "stdout",
          "text": [
            "첫 번째 숫자를 입력하세요1\n",
            "두 번째 숫자를 입력하세요10\n",
            "1+2+3+4+5+6+7+8+9+10=55\n"
          ]
        }
      ]
    },
    {
      "cell_type": "markdown",
      "source": [
        "### 57. 짝수들만 합하기"
      ],
      "metadata": {
        "id": "UNHXiopw6alG"
      }
    },
    {
      "cell_type": "code",
      "source": [
        "num1 = int(input('첫 번째 숫자를 입력하세요'))\n",
        "num2 = int(input('두 번째 숫자를 입력하세요'))\n",
        "\n",
        "sum = 0\n",
        "for i in range(num1,num2+1):\n",
        "  if i%2==0:\n",
        "    sum +=i\n",
        "print(num1,'부터',num2,'까지 짝수들만의 합은',sum)"
      ],
      "metadata": {
        "colab": {
          "base_uri": "https://localhost:8080/"
        },
        "id": "3Rwy-41-535h",
        "outputId": "249b33d9-ea66-4a84-f081-0d987b48d949"
      },
      "execution_count": null,
      "outputs": [
        {
          "output_type": "stream",
          "name": "stdout",
          "text": [
            "첫 번째 숫자를 입력하세요1\n",
            "두 번째 숫자를 입력하세요10\n",
            "1 부터 10 까지 짝수들만의 합은 30\n"
          ]
        }
      ]
    },
    {
      "cell_type": "markdown",
      "source": [
        "### 58. 독특한 삼각뿔 주사위, 이중 반복문"
      ],
      "metadata": {
        "id": "fQolJNek60Q6"
      }
    },
    {
      "cell_type": "code",
      "source": [
        "cnt = 0\n",
        "for i in range(1,5):\n",
        "  for j in range(4,8):\n",
        "    print('첫 번째 주사위 값',i,'두 번째 주사위 값',j,'합',i+j)\n",
        "    cnt+=1\n",
        "print('가능한 첫 번째 두 번째 주사위의 경우의 수',cnt)"
      ],
      "metadata": {
        "colab": {
          "base_uri": "https://localhost:8080/"
        },
        "id": "rhdce2fj6phn",
        "outputId": "a169a782-58b0-44ba-dfe8-5dfaf42de8df"
      },
      "execution_count": null,
      "outputs": [
        {
          "output_type": "stream",
          "name": "stdout",
          "text": [
            "첫 번째 주사위 값 1 두 번째 주사위 값 4 합 5\n",
            "첫 번째 주사위 값 1 두 번째 주사위 값 5 합 6\n",
            "첫 번째 주사위 값 1 두 번째 주사위 값 6 합 7\n",
            "첫 번째 주사위 값 1 두 번째 주사위 값 7 합 8\n",
            "첫 번째 주사위 값 2 두 번째 주사위 값 4 합 6\n",
            "첫 번째 주사위 값 2 두 번째 주사위 값 5 합 7\n",
            "첫 번째 주사위 값 2 두 번째 주사위 값 6 합 8\n",
            "첫 번째 주사위 값 2 두 번째 주사위 값 7 합 9\n",
            "첫 번째 주사위 값 3 두 번째 주사위 값 4 합 7\n",
            "첫 번째 주사위 값 3 두 번째 주사위 값 5 합 8\n",
            "첫 번째 주사위 값 3 두 번째 주사위 값 6 합 9\n",
            "첫 번째 주사위 값 3 두 번째 주사위 값 7 합 10\n",
            "첫 번째 주사위 값 4 두 번째 주사위 값 4 합 8\n",
            "첫 번째 주사위 값 4 두 번째 주사위 값 5 합 9\n",
            "첫 번째 주사위 값 4 두 번째 주사위 값 6 합 10\n",
            "첫 번째 주사위 값 4 두 번째 주사위 값 7 합 11\n",
            "가능한 첫 번째 두 번째 주사위의 경우의 수 16\n"
          ]
        }
      ]
    },
    {
      "cell_type": "markdown",
      "source": [
        "### 59. RGB로 색깔 표현하기"
      ],
      "metadata": {
        "id": "7VhDq3fF7hqe"
      }
    },
    {
      "cell_type": "code",
      "source": [
        "color = 0\n",
        "for i in range(256):\n",
        "  for j in range(256):\n",
        "    for k in range(256):\n",
        "      color += 1\n",
        "\n",
        "print('가능한 색깔 개수는', color)"
      ],
      "metadata": {
        "colab": {
          "base_uri": "https://localhost:8080/"
        },
        "id": "K7oOwRWq7THG",
        "outputId": "9395876e-5442-40e6-83e8-8577c6957a2f"
      },
      "execution_count": null,
      "outputs": [
        {
          "output_type": "stream",
          "name": "stdout",
          "text": [
            "가능한 색깔 개수는 16777216\n"
          ]
        }
      ]
    },
    {
      "cell_type": "markdown",
      "source": [
        "### 60. 사각형 별 찍기"
      ],
      "metadata": {
        "id": "Hs80QvNF75WE"
      }
    },
    {
      "cell_type": "code",
      "source": [
        "for i in range(4):\n",
        "  for j in range(4):\n",
        "    print('*',end = '')\n",
        "  print()"
      ],
      "metadata": {
        "colab": {
          "base_uri": "https://localhost:8080/"
        },
        "id": "xVMyOBAd72On",
        "outputId": "34051902-6506-456f-a186-111516265403"
      },
      "execution_count": null,
      "outputs": [
        {
          "output_type": "stream",
          "name": "stdout",
          "text": [
            "****\n",
            "****\n",
            "****\n",
            "****\n"
          ]
        }
      ]
    },
    {
      "cell_type": "markdown",
      "source": [
        "* print()를 넣어줌으로서 마으서 커서 한 줄 띄기"
      ],
      "metadata": {
        "id": "M61dPDwd8RE9"
      }
    },
    {
      "cell_type": "markdown",
      "source": [
        "### 61. 삼각형 별 찍기1"
      ],
      "metadata": {
        "id": "4iSx8Dk08Vjn"
      }
    },
    {
      "cell_type": "code",
      "source": [
        "for i in range(5):\n",
        "  for j in range(i+1):\n",
        "    print('*',end = '')\n",
        "  print()"
      ],
      "metadata": {
        "colab": {
          "base_uri": "https://localhost:8080/"
        },
        "id": "poStqzvp7_op",
        "outputId": "c5f5cb99-1b24-4d84-8b86-3b11e121be78"
      },
      "execution_count": null,
      "outputs": [
        {
          "output_type": "stream",
          "name": "stdout",
          "text": [
            "*\n",
            "**\n",
            "***\n",
            "****\n",
            "*****\n"
          ]
        }
      ]
    },
    {
      "cell_type": "markdown",
      "source": [
        "### 62. 대각선 별 찍기"
      ],
      "metadata": {
        "id": "TkRxK4nO9Hlm"
      }
    },
    {
      "cell_type": "code",
      "source": [
        "for i in range(5):\n",
        "  for j in range(5):\n",
        "    if i == j:\n",
        "      print('*',end = '')\n",
        "    else:\n",
        "      print(' ',end = '')\n",
        "  print()"
      ],
      "metadata": {
        "colab": {
          "base_uri": "https://localhost:8080/"
        },
        "id": "kE7AoPSv8r8Q",
        "outputId": "b21ce0ff-f30e-482c-a4f2-7e52e67aaa4e"
      },
      "execution_count": null,
      "outputs": [
        {
          "output_type": "stream",
          "name": "stdout",
          "text": [
            "*    \n",
            " *   \n",
            "  *  \n",
            "   * \n",
            "    *\n"
          ]
        }
      ]
    },
    {
      "cell_type": "markdown",
      "source": [
        "### 63. 삼각형 별 찍기2"
      ],
      "metadata": {
        "id": "y89P0Tc89p4Y"
      }
    },
    {
      "cell_type": "code",
      "source": [
        "for i in range(5):\n",
        "  for j in range(6-i):\n",
        "    print('*',end = '')\n",
        "  print()"
      ],
      "metadata": {
        "colab": {
          "base_uri": "https://localhost:8080/"
        },
        "id": "jJMWeQ559bEs",
        "outputId": "988ffbf2-da37-45be-ce24-4f221f2d5bbf"
      },
      "execution_count": null,
      "outputs": [
        {
          "output_type": "stream",
          "name": "stdout",
          "text": [
            "******\n",
            "*****\n",
            "****\n",
            "***\n",
            "**\n"
          ]
        }
      ]
    },
    {
      "cell_type": "markdown",
      "source": [
        "### 64. 삼각형 별 찍기 3"
      ],
      "metadata": {
        "id": "aiCs0P6I-cmo"
      }
    },
    {
      "cell_type": "code",
      "source": [
        "j = 0\n",
        "for i in range(1,4):\n",
        "  print(' '*(3-i),end = '')\n",
        "  print('*'*(i+j))\n",
        "  j +=1"
      ],
      "metadata": {
        "colab": {
          "base_uri": "https://localhost:8080/"
        },
        "id": "G62BywUS-Y0d",
        "outputId": "13645575-b777-4c8d-eda6-5a56096c53e9"
      },
      "execution_count": null,
      "outputs": [
        {
          "output_type": "stream",
          "name": "stdout",
          "text": [
            "  *\n",
            " ***\n",
            "*****\n"
          ]
        }
      ]
    },
    {
      "cell_type": "markdown",
      "source": [
        "### 65. X 모양 별 찍기"
      ],
      "metadata": {
        "id": "K7iCy7Gl_ZEX"
      }
    },
    {
      "cell_type": "code",
      "source": [
        "for i in range(10):\n",
        "  for j in range(10):\n",
        "    if i == j or i + j == 9:\n",
        "      print('*',end = '')\n",
        "    else:\n",
        "      print(' ',end = '')\n",
        "  print()"
      ],
      "metadata": {
        "colab": {
          "base_uri": "https://localhost:8080/"
        },
        "id": "hgCjVq5w_G1o",
        "outputId": "a5a81e4d-3723-4c9d-9877-7ddb0627fcf8"
      },
      "execution_count": null,
      "outputs": [
        {
          "output_type": "stream",
          "name": "stdout",
          "text": [
            "*        *\n",
            " *      * \n",
            "  *    *  \n",
            "   *  *   \n",
            "    **    \n",
            "    **    \n",
            "   *  *   \n",
            "  *    *  \n",
            " *      * \n",
            "*        *\n"
          ]
        }
      ]
    },
    {
      "cell_type": "markdown",
      "source": [
        "### 66. for 반복문과 문자열의 만남\n",
        "\n",
        "다음과 같이 문자열을 입력받아서 문자열에 포함된 문자 중에서 `'a'` 문자는 제외하고 출력하는 코드를 작성하세요."
      ],
      "metadata": {
        "id": "4P03b1r3EHH6"
      }
    },
    {
      "cell_type": "code",
      "source": [
        "mystring=input('하나의 문자열을 입력하세요: ')\n",
        "\n",
        "for i in mystring:\n",
        "\tif i!='a':\n",
        "\t\tprint(i, end='')"
      ],
      "metadata": {
        "id": "BDKZlLep_yPQ",
        "colab": {
          "base_uri": "https://localhost:8080/"
        },
        "outputId": "f0519965-9bbb-4d3e-aaa4-63098bfad492"
      },
      "execution_count": 1,
      "outputs": [
        {
          "output_type": "stream",
          "name": "stdout",
          "text": [
            "하나의 문자열을 입력하세요: apple\n",
            "pple"
          ]
        }
      ]
    },
    {
      "cell_type": "markdown",
      "source": [
        "### 67. for 반복문과 리스트의 만남\n",
        "\n",
        "내 친구 이름 명단이 있는 리스트를 활용해 다음과 같이 1번부터 번호를 생성해 친구를 소개하는 문구를 출력하는 코드를 작성하세요."
      ],
      "metadata": {
        "id": "ri94JsG8ESRp"
      }
    },
    {
      "cell_type": "code",
      "source": [
        "friends=['우진','시은','메이킷','지연','지훈']\n",
        "\n",
        "cnt=1\n",
        "for i in friends:\n",
        "\tprint(cnt, '번 친구',i,'을 소개합니다.')\n",
        "\tcnt+=1"
      ],
      "metadata": {
        "colab": {
          "base_uri": "https://localhost:8080/"
        },
        "id": "QyoeMbEiELqq",
        "outputId": "e21c25a6-923e-4674-dd1a-913d299116a2"
      },
      "execution_count": 2,
      "outputs": [
        {
          "output_type": "stream",
          "name": "stdout",
          "text": [
            "1 번 친구 우진 을 소개합니다.\n",
            "2 번 친구 시은 을 소개합니다.\n",
            "3 번 친구 메이킷 을 소개합니다.\n",
            "4 번 친구 지연 을 소개합니다.\n",
            "5 번 친구 지훈 을 소개합니다.\n"
          ]
        }
      ]
    },
    {
      "cell_type": "markdown",
      "source": [
        "### 68. 다음 반복문으로 바로가기(continue)\n",
        "\n",
        "다음과 같이 1부터 30까지 출력하되 5의 배수는 출력하지 않도록 코드를 작성하세요."
      ],
      "metadata": {
        "id": "o6MGLvgIEWHB"
      }
    },
    {
      "cell_type": "code",
      "source": [
        "for i in range(1, 31):\n",
        "\tif i%5==0:\n",
        "\t\tcontinue\n",
        "\telse:\n",
        "\t\tprint(i, end=' ')"
      ],
      "metadata": {
        "colab": {
          "base_uri": "https://localhost:8080/"
        },
        "id": "TBYKpH5FEUgY",
        "outputId": "9168bcb7-8f4c-41f9-c483-d4a58c0cdda7"
      },
      "execution_count": 3,
      "outputs": [
        {
          "output_type": "stream",
          "name": "stdout",
          "text": [
            "1 2 3 4 6 7 8 9 11 12 13 14 16 17 18 19 21 22 23 24 26 27 28 29 "
          ]
        }
      ]
    },
    {
      "cell_type": "markdown",
      "source": [
        "### 69. 반복문 깨고 바로 나가기(break)\n",
        "\n",
        "다음과 같이 규칙에 따라 숫자가 나열된 것을 수열이라고 합니다. 3부터 시작해서 5씩 더해지는 수열이 있다면 수열의 100번째 숫자는 무엇인지 구하는 코드를 `for` 반복문을 사용해서 작성하세요.\n",
        "\n",
        "*3 8 13 18 23 ...*\n",
        "\n",
        "*23은 수열의 5번째 숫자입니다.*"
      ],
      "metadata": {
        "id": "32M1vceSEaKz"
      }
    },
    {
      "cell_type": "code",
      "source": [
        "cnt=1\n",
        "\n",
        "for i in range(3, 100000,5):\n",
        "\tif cnt==100:\n",
        "\t\tprint(i)\n",
        "\t\tbreak\n",
        "\tcnt+=1"
      ],
      "metadata": {
        "colab": {
          "base_uri": "https://localhost:8080/"
        },
        "id": "JsgTOYWKEXxN",
        "outputId": "fde63f98-e96f-4f78-e00c-01d8bcdcf451"
      },
      "execution_count": 4,
      "outputs": [
        {
          "output_type": "stream",
          "name": "stdout",
          "text": [
            "498\n"
          ]
        }
      ]
    },
    {
      "cell_type": "code",
      "source": [],
      "metadata": {
        "id": "pB_H2_uKEcA3"
      },
      "execution_count": null,
      "outputs": []
    }
  ]
}