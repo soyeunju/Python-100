{
  "nbformat": 4,
  "nbformat_minor": 0,
  "metadata": {
    "colab": {
      "provenance": [],
      "authorship_tag": "ABX9TyMdqv9LAp4a8J3kZ/44zFAy",
      "include_colab_link": true
    },
    "kernelspec": {
      "name": "python3",
      "display_name": "Python 3"
    },
    "language_info": {
      "name": "python"
    }
  },
  "cells": [
    {
      "cell_type": "markdown",
      "metadata": {
        "id": "view-in-github",
        "colab_type": "text"
      },
      "source": [
        "<a href=\"https://colab.research.google.com/github/soyeunju/Python-100/blob/main/Week1.ipynb\" target=\"_parent\"><img src=\"https://colab.research.google.com/assets/colab-badge.svg\" alt=\"Open In Colab\"/></a>"
      ]
    },
    {
      "cell_type": "markdown",
      "source": [
        "##Part 1_코드를 구성하는 기본 도구 -출력, 변수, 연산자\n",
        "### 1. 글자 출력하기\n",
        "다음과 같이 출력하도록 코드를 작성하세요.\n",
        "\n",
        "```\n",
        "실행결과\n",
        "\n",
        "makit “code” lab\n",
        "\n",
        "she’s gone\n",
        "```"
      ],
      "metadata": {
        "id": "zMkfDMzCkA7T"
      }
    },
    {
      "cell_type": "code",
      "execution_count": 1,
      "metadata": {
        "colab": {
          "base_uri": "https://localhost:8080/"
        },
        "id": "aXVeTfBJj9mP",
        "outputId": "ff83186f-44c9-48a6-a287-59583255b974"
      },
      "outputs": [
        {
          "output_type": "stream",
          "name": "stdout",
          "text": [
            "makit \"code\" lab\n",
            "she's gone\n"
          ]
        }
      ],
      "source": [
        "print('makit \"code\" lab')\n",
        "print(\"she's gone\")"
      ]
    },
    {
      "cell_type": "markdown",
      "source": [
        "* 문자열 출력시 큰따옴표 혹은 작은따옴표 사이에 입력"
      ],
      "metadata": {
        "id": "-nV-c3H6lT_U"
      }
    },
    {
      "cell_type": "markdown",
      "source": [
        "### 2. 숫자 저장하기\n",
        "10과 20을 각각 변수 a와 b에 저장하고 다음과 같이 출력하도록 코드를 작성하세요.\n",
        "```\n",
        "실행결과\n",
        "\n",
        "a의 값은 10\n",
        "\n",
        "b의 값은 20\n",
        "\n",
        "a와 b의 합은 30\n",
        "```\n"
      ],
      "metadata": {
        "id": "2_pH34Leka63"
      }
    },
    {
      "cell_type": "code",
      "source": [
        "a = 10\n",
        "b = 20\n",
        "print('a의 값은',a)\n",
        "print('b의 값은',b)\n",
        "print('a와 b의 합은',a+b)"
      ],
      "metadata": {
        "colab": {
          "base_uri": "https://localhost:8080/"
        },
        "id": "Ri_tuONlkByE",
        "outputId": "aa390d2b-6056-4f0a-c292-1f93a3fd7571"
      },
      "execution_count": 4,
      "outputs": [
        {
          "output_type": "stream",
          "name": "stdout",
          "text": [
            "a의 값은 10\n",
            "b의 값은 20\n",
            "a와 b의 합은 30\n"
          ]
        }
      ]
    },
    {
      "cell_type": "markdown",
      "source": [
        "### 3. 'makit' 곱하기 3\n",
        "```\n",
        "다음과 같이 변수 a와 b에 숫자 10과 문자열 ‘makeit’를 각각 저장하고, 각 변수에 곱하기 3을 한 결과가 무엇인지 적어 보세요.\n",
        "\n",
        "a = 10\n",
        "b = 'makit'\n",
        "print (a * 3)\n",
        "print (b * 3)\n",
        "```\n"
      ],
      "metadata": {
        "id": "NLIgVceeku9S"
      }
    },
    {
      "cell_type": "code",
      "source": [
        "a = 10\n",
        "b = 'makit'\n",
        "print (a * 3)\n",
        "print (b * 3)"
      ],
      "metadata": {
        "colab": {
          "base_uri": "https://localhost:8080/"
        },
        "id": "YZl96Vg2kjEG",
        "outputId": "e2f6795b-072f-4e71-ffb8-4dfe39bcef30"
      },
      "execution_count": 5,
      "outputs": [
        {
          "output_type": "stream",
          "name": "stdout",
          "text": [
            "30\n",
            "makitmakitmakit\n"
          ]
        }
      ]
    },
    {
      "cell_type": "markdown",
      "source": [
        "* 문자열에 숫자를 곱하는 것은 문자열을 곱한 숫자만큼 문자열을 반복해서 붙인다는 의미"
      ],
      "metadata": {
        "id": "0DfwYO50lRj2"
      }
    },
    {
      "cell_type": "markdown",
      "source": [
        "### 4. 하나 빼기, 하나 더하기 연산자\n",
        "\n",
        "아래 코드를 수행하였을 때 결과가 어떻게 나올지 적어 보세요.\n",
        "```\n",
        "m=1\n",
        "print(m)\n",
        "m=m+1\n",
        "print(m)\n",
        "m+=1\n",
        "print(m)\n",
        "m=m-1\n",
        "print(m)\n",
        "m-=1\n",
        "print(m)\n",
        "```"
      ],
      "metadata": {
        "id": "o--BmKaalVOv"
      }
    },
    {
      "cell_type": "code",
      "source": [
        "m=1\n",
        "print(m)\n",
        "m=m+1\n",
        "print(m)\n",
        "m+=1\n",
        "print(m)\n",
        "m=m-1\n",
        "print(m)\n",
        "m-=1\n",
        "print(m)"
      ],
      "metadata": {
        "colab": {
          "base_uri": "https://localhost:8080/"
        },
        "id": "UvXR4Qpek4pI",
        "outputId": "265e4038-3d33-48f6-9485-ec4812018767"
      },
      "execution_count": 6,
      "outputs": [
        {
          "output_type": "stream",
          "name": "stdout",
          "text": [
            "1\n",
            "2\n",
            "3\n",
            "2\n",
            "1\n"
          ]
        }
      ]
    },
    {
      "cell_type": "markdown",
      "source": [
        "### 5. 몫 연산자(//)와 나머지 연산자(%)\n",
        "\n",
        "30을 8로 나눈 몫과 나머지를 각각 변수 a와 b에 저장하고 다음과 같이 출력하는 코드를 작성하세요.\n",
        "\n",
        "```\n",
        "실행결과\n",
        "\n",
        "30을 8로 나눈 몫은 3\n",
        "\n",
        "30을 8로 나눈 나머지는 6\n",
        "\n",
        "30을 8로 나눈 결과는 3.75\n",
        "```\n",
        "| 설명 | 기호 |\n",
        "| --- | --- |\n",
        "| 나누기 결과 얻는 연산자 | / |\n",
        "| 나누기 결과의 몫을 구하는 연산자 | // |\n",
        "| 나누기 결과의 나머지를 구하는 연산자 | % |"
      ],
      "metadata": {
        "id": "E5lYz-xzlj8r"
      }
    },
    {
      "cell_type": "code",
      "source": [
        "print('30을 8로 나눈 몫은',30//8)\n",
        "print('30을 8로 나눈 몫은',30%8)\n",
        "print('30을 8로 나눈 몫은',30/8)"
      ],
      "metadata": {
        "colab": {
          "base_uri": "https://localhost:8080/"
        },
        "id": "PiX9Irk5lbT7",
        "outputId": "53a6acf2-f95b-43cd-de89-f1e51c8a0750"
      },
      "execution_count": 9,
      "outputs": [
        {
          "output_type": "stream",
          "name": "stdout",
          "text": [
            "30을 8로 나눈 몫은 3\n",
            "30을 8로 나눈 몫은 6\n",
            "30을 8로 나눈 몫은 3.75\n"
          ]
        }
      ]
    },
    {
      "cell_type": "markdown",
      "source": [
        "## Part 2_컴퓨터와 묻고 답하기 그리고 문자열 다루기\n",
        "###6. 문자열과 문자열 붙이기\n",
        "다음 코드의 실행 결과를 적어 보세요.\n",
        "```\n",
        "print(12+34) #숫자끼리 더하기\n",
        "print('12'+'34') #문자열 붙이기, 연결하기\n",
        "print(2**3) #2의 3제곱\n",
        "```"
      ],
      "metadata": {
        "id": "-X8THEgCl_i4"
      }
    },
    {
      "cell_type": "code",
      "source": [
        "print(12+34) #숫자끼리 더하기\n",
        "print('12'+'34') #문자열 붙이기, 연결하기\n",
        "print(2**3) #2의 3제곱"
      ],
      "metadata": {
        "colab": {
          "base_uri": "https://localhost:8080/"
        },
        "id": "qAL3N4dvltVu",
        "outputId": "7138b2e9-8028-4c7c-a268-e49ef04f8f55"
      },
      "execution_count": 10,
      "outputs": [
        {
          "output_type": "stream",
          "name": "stdout",
          "text": [
            "46\n",
            "1234\n",
            "8\n"
          ]
        }
      ]
    },
    {
      "cell_type": "markdown",
      "source": [
        "### 7. 한 줄 띄기\n",
        "\n",
        "다음과 같이 코드 실행 결과가 나오도록 코드의 빈칸을 완성하세요.\n",
        "\n",
        "```\n",
        "실행결과\n",
        "\n",
        "시은 우진 화이팅!!\n",
        "\n",
        "시은 우진 화이팅!!\n",
        "```"
      ],
      "metadata": {
        "id": "e6sRls1omQ4j"
      }
    },
    {
      "cell_type": "code",
      "source": [
        "# 풀이\n",
        "a = '시은 우진'\n",
        "print(a,' 화이팅!!')\n",
        "print()\n",
        "print(a)"
      ],
      "metadata": {
        "colab": {
          "base_uri": "https://localhost:8080/"
        },
        "id": "fxddjNzcmLSA",
        "outputId": "e0271a67-c9fd-4ad0-d351-b5f2ce34adee"
      },
      "execution_count": 12,
      "outputs": [
        {
          "output_type": "stream",
          "name": "stdout",
          "text": [
            "시은 우진  화이팅!!\n",
            "\n",
            "시은 우진\n"
          ]
        }
      ]
    },
    {
      "cell_type": "code",
      "source": [
        "# 정답\n",
        "a = '시은 우진'\n",
        "a = a+' '+'화이팅!!'\n",
        "print(a)\n",
        "print() # 한 줄 띄기\n",
        "print(a)"
      ],
      "metadata": {
        "colab": {
          "base_uri": "https://localhost:8080/"
        },
        "id": "WmfF35YtmdEE",
        "outputId": "bd303622-c03c-4b18-98f3-b180d2d59f30"
      },
      "execution_count": 14,
      "outputs": [
        {
          "output_type": "stream",
          "name": "stdout",
          "text": [
            "시은 우진 화이팅!!\n",
            "\n",
            "시은 우진 화이팅!!\n"
          ]
        }
      ]
    },
    {
      "cell_type": "markdown",
      "source": [
        "### 8. 입력받아 컴퓨터랑 대화하기\n",
        "\n",
        "이름과 나이를 키보드로 입력받은 값을 각각 변수 name과 age에 저장하고 다음과 같이 출력하는 코드를 작성하세요.\n",
        "```\n",
        "실행결과\n",
        "\n",
        "이름이 무엇인가요? **메이킷**\n",
        "\n",
        "몇 살인가요? **17**\n",
        "\n",
        "메이킷 님은 내년에는 18살이 됩니다.\n",
        "```"
      ],
      "metadata": {
        "id": "6VgRcEsAmy-s"
      }
    },
    {
      "cell_type": "code",
      "source": [
        "name = input('이름이 무엇인가요')\n",
        "age = int(input('몇 살인가요'))\n",
        "print(name,'님은 내년에는',age+1,'살이 됩니다.')"
      ],
      "metadata": {
        "colab": {
          "base_uri": "https://localhost:8080/"
        },
        "id": "Pkb66K8XmqZP",
        "outputId": "d78fe267-bbcb-411b-8036-37da2c7495dd"
      },
      "execution_count": 19,
      "outputs": [
        {
          "output_type": "stream",
          "name": "stdout",
          "text": [
            "이름이 무엇인가요메이킷\n",
            "몇 살인가요17\n",
            "메이킷 님은 내년에는 18 살이 됩니다.\n"
          ]
        }
      ]
    },
    {
      "cell_type": "markdown",
      "source": [
        "* 키보드로 입력 받아 변수에 저장하는 함수는 input() 함수. 입력받은 자료형은 기본적으로 문자열 자료형이 됨\n",
        "* 키보드 입력으로부터 문자열 10을 입력받고, 변수 a에 숫자 10으로 저장하려면 int()함수를 사용해 정수 자료형으로 변환해야함"
      ],
      "metadata": {
        "id": "iVFSkusnngSE"
      }
    },
    {
      "cell_type": "markdown",
      "source": [
        "### 9. 두 수를 입력받아서 합과 평균 구하기\n",
        "\n",
        "정수와 실수를 각각 변수 a, b에 입력받아 두 숫자의 합과 평균을 구하는 코드를 작성하세요.\n",
        "\n",
        "```\n",
        "#입력\n",
        "\n",
        "3\n",
        "\n",
        "2.5\n",
        "\n",
        "#출력\n",
        "\n",
        "a와 b의 합은 5.5\n",
        "\n",
        "a와 b의 평균값은 2.75\n",
        "```"
      ],
      "metadata": {
        "id": "S3EBEGMCnrTg"
      }
    },
    {
      "cell_type": "code",
      "source": [
        "a = int(input('number1'))\n",
        "b = float(input('number2'))\n",
        "print('a와 b의 합은',a+b)\n",
        "print('a와 b의 평균값은',(a+b)/2)"
      ],
      "metadata": {
        "colab": {
          "base_uri": "https://localhost:8080/"
        },
        "id": "WlFmr4lSnCUG",
        "outputId": "a7d1ca8d-c55f-434b-91a5-f2afc2c4abb6"
      },
      "execution_count": 24,
      "outputs": [
        {
          "output_type": "stream",
          "name": "stdout",
          "text": [
            "number13\n",
            "number22.5\n",
            "a와 b의 합은 5.5\n",
            "a와 b의 평균값은 2.75\n"
          ]
        }
      ]
    },
    {
      "cell_type": "markdown",
      "source": [
        "* 정수는 int()함수를, 실수는 float()함수를 사용"
      ],
      "metadata": {
        "id": "tZYjuvGToNu4"
      }
    },
    {
      "cell_type": "markdown",
      "source": [
        "### 10. 문자열에서 하나의 문자 뽑아내기\n",
        "\n",
        "makeit 문자열 변수를 활용해 아래와 같은 실행 결과가 나오도록 코드의 빈칸을 완성하세요.\n",
        "\n",
        "```\n",
        "실행결과\n",
        "\n",
        "S\n",
        "\n",
        "W\n",
        "\n",
        "!\n",
        "```"
      ],
      "metadata": {
        "id": "QpGfOMTCoP1P"
      }
    },
    {
      "cell_type": "code",
      "source": [
        "makit='Sieun Woojin!'\n",
        "result=makit[0]\n",
        "print(result)\n",
        "\n",
        "result=makit[6]\n",
        "print(result)\n",
        "\n",
        "result=makit[-1]\n",
        "print(result)"
      ],
      "metadata": {
        "colab": {
          "base_uri": "https://localhost:8080/"
        },
        "id": "flfsKMRNn8UX",
        "outputId": "61d5035a-dc7f-4231-9861-7585023e803f"
      },
      "execution_count": 25,
      "outputs": [
        {
          "output_type": "stream",
          "name": "stdout",
          "text": [
            "S\n",
            "W\n",
            "!\n"
          ]
        }
      ]
    }
  ]
}